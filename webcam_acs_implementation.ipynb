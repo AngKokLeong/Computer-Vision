{
 "cells": [
  {
   "cell_type": "markdown",
   "metadata": {},
   "source": [
    "# Assignment 1"
   ]
  },
  {
   "cell_type": "markdown",
   "metadata": {},
   "source": [
    "## Requirement\n",
    "\n",
    "In this assignment, you will use webcam to detect the colour of the access card and display the access control message based on your detection result. You can use image processing techniques, traditional machine learning and deep learning method (image classification) to detect the colour of the access card.  "
   ]
  },
  {
   "cell_type": "markdown",
   "metadata": {},
   "source": [
    "### Task A: Preparation\n",
    "-\tCapture the image by webcam\n",
    "-\tResize the image to 800 x 600 (width x height)\n",
    "-\tDisplay the image in greyscale\n",
    "-\tUsing Python time library, add a timestamp neatly on the image\n"
   ]
  },
  {
   "cell_type": "code",
   "execution_count": null,
   "metadata": {},
   "outputs": [
    {
     "name": "stdout",
     "output_type": "stream",
     "text": [
      "asd\n"
     ]
    }
   ],
   "source": []
  },
  {
   "cell_type": "markdown",
   "metadata": {},
   "source": [
    "### Task B: Traditional Approach\n",
    "-\tPrepare different coloured cards, capture card image by webcam, recognize the colour of the cards by traditional image processing techniques or machine learning approach (k-NN or SVM)\n",
    "-\tDisplay ‘ACCESS GRANTED’ or ‘ACCESS DENIED’ based on the colour of access cards\n"
   ]
  },
  {
   "cell_type": "code",
   "execution_count": null,
   "metadata": {},
   "outputs": [],
   "source": []
  },
  {
   "cell_type": "markdown",
   "metadata": {},
   "source": [
    "### Task C: Deep Learning Approach\n",
    "-\tCapture some card images by webcam, make training set for different coloured cards\n",
    "-\tSelect a pretrained deep learning model (e.g. Resnet) for access card classification, and retrain the model with your training set\n",
    "-\tPredict and display ‘ACCESS GRANTED’ or ‘ACCESS DENIED’ based on the cards captured by webcam\n"
   ]
  },
  {
   "cell_type": "code",
   "execution_count": null,
   "metadata": {},
   "outputs": [],
   "source": []
  },
  {
   "cell_type": "markdown",
   "metadata": {},
   "source": [
    "### Task D: Summary\n",
    "-\tDescribe the implementation steps in Task A, B and C\n",
    "-\tCompare traditional approach (Task B) and deep learning approach (Task C) in terms of card classification accuracy, training speed, etc.\n",
    "-\tExplain the skills, challenges and lessons you have learned through the assignment \n"
   ]
  },
  {
   "cell_type": "markdown",
   "metadata": {},
   "source": []
  }
 ],
 "metadata": {
  "kernelspec": {
   "display_name": "base",
   "language": "python",
   "name": "python3"
  },
  "language_info": {
   "codemirror_mode": {
    "name": "ipython",
    "version": 3
   },
   "file_extension": ".py",
   "mimetype": "text/x-python",
   "name": "python",
   "nbconvert_exporter": "python",
   "pygments_lexer": "ipython3",
   "version": "3.12.4"
  }
 },
 "nbformat": 4,
 "nbformat_minor": 2
}
